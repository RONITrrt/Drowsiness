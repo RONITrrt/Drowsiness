{
  "nbformat": 4,
  "nbformat_minor": 0,
  "metadata": {
    "colab": {
      "provenance": [],
      "authorship_tag": "ABX9TyOOVQBdVt7tQrQqO8B+OFpS",
      "include_colab_link": true
    },
    "kernelspec": {
      "name": "python3",
      "display_name": "Python 3"
    },
    "language_info": {
      "name": "python"
    }
  },
  "cells": [
    {
      "cell_type": "markdown",
      "metadata": {
        "id": "view-in-github",
        "colab_type": "text"
      },
      "source": [
        "<a href=\"https://colab.research.google.com/github/arssite/Drowsiness/blob/main/Detection_py.ipynb\" target=\"_parent\"><img src=\"https://colab.research.google.com/assets/colab-badge.svg\" alt=\"Open In Colab\"/></a>"
      ]
    },
    {
      "cell_type": "code",
      "execution_count": null,
      "metadata": {
        "id": "HGSoE9JJleUV"
      },
      "outputs": [],
      "source": [
        "import cv2\n",
        "import numpy as np\n",
        "from keras.models import load_model\n",
        "import time\n",
        "import pygame\n",
        "\n",
        "# Load the trained model\n",
        "model = load_model('Driver_Drowsiness_Detection.h5')\n",
        "\n",
        "# Initialize pygame for sound alert\n",
        "pygame.mixer.init()\n",
        "\n",
        "# Load the cascade classifiers for face and eye detection\n",
        "face_cascade = cv2.CascadeClassifier(cv2.data.haarcascades + 'haarcascade_frontalface_default.xml')\n",
        "eye_cascade = cv2.CascadeClassifier(cv2.data.haarcascades + 'haarcascade_eye.xml')\n",
        "\n",
        "# Function to detect drowsiness\n",
        "def detect_drowsiness(frame, model):\n",
        "    gray = cv2.cvtColor(frame, cv2.COLOR_BGR2GRAY)\n",
        "    faces = face_cascade.detectMultiScale(gray, 1.1, 4)\n",
        "\n",
        "    res = 0  # Initialize res variable\n",
        "    for (x, y, w, h) in faces:\n",
        "        roi_gray = gray[y:y+h, x:x+w]\n",
        "        roi_color = frame[y:y+h, x:x+w]\n",
        "        eyes = eye_cascade.detectMultiScale(roi_gray)\n",
        "\n",
        "        for (ex, ey, ew, eh) in eyes:\n",
        "            eye_roi = roi_color[ey:ey + eh, ex:ex + ew]\n",
        "            eye_roi_color = cv2.cvtColor(eye_roi, cv2.COLOR_BGR2RGB)  # Convert grayscale to color\n",
        "            resized = cv2.resize(eye_roi_color, (32, 32))  # Resize the image to (32, 32)\n",
        "            normalized = resized / 255.0\n",
        "            reshaped = np.reshape(normalized, (-1, 32, 32, 3))  # Reshape to match model input shape\n",
        "            result = model.predict(reshaped)\n",
        "            print(\"Result\", result[0][1])\n",
        "            res = result[0][1]\n",
        "            if result[0][1] > 0.01:\n",
        "                return True, res  # Drowsiness detected\n",
        "\n",
        "    return False, res  # No drowsiness detected\n",
        "\n",
        "# Main function\n",
        "def main():\n",
        "    cap = cv2.VideoCapture(0)\n",
        "\n",
        "    alert_triggered = False\n",
        "    drowsy_start_time = None\n",
        "\n",
        "    while True:\n",
        "        ret, frame = cap.read()\n",
        "        if not ret:\n",
        "            break\n",
        "\n",
        "        drowsy, result = detect_drowsiness(frame, model)\n",
        "        if not drowsy:\n",
        "            if drowsy_start_time is None:\n",
        "                drowsy_start_time = time.time()\n",
        "                print(\"Drowsiness detected. Waiting for 2 seconds before playing alert sound...\")\n",
        "            elif time.time() - drowsy_start_time > 1:\n",
        "                if not alert_triggered:\n",
        "                    print(\"Playing alert sound...\")\n",
        "                    pygame.mixer.music.load('beep-warning-6387.mp3')  # Load alert sound\n",
        "                    pygame.mixer.music.play(-1)  # Play alert sound in a loop\n",
        "                    alert_triggered = True\n",
        "        else:\n",
        "            if alert_triggered:\n",
        "                print(\"Stopping alert sound...\")\n",
        "                pygame.mixer.music.stop()  # Stop playing alert sound\n",
        "                alert_triggered = False\n",
        "            drowsy_start_time = None\n",
        "\n",
        "        cv2.putText(frame, f\"State: {'Drowsy' if  not drowsy else 'Alert'}\", (10, 30), cv2.FONT_HERSHEY_SIMPLEX, 0.7, (0, 255, 0), 2)\n",
        "        cv2.imshow('Drowsiness Detection', frame)\n",
        "\n",
        "        if cv2.waitKey(1) & 0xFF == ord('q'):\n",
        "            break\n",
        "\n",
        "    cap.release()\n",
        "    cv2.destroyAllWindows()\n",
        "\n",
        "if __name__ == \"__main__\":\n",
        "    main()"
      ]
    }
  ]
}